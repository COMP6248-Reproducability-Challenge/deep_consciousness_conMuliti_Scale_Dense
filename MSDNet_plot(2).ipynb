{
 "cells": [
  {
   "cell_type": "code",
   "execution_count": 8,
   "metadata": {
    "colab": {},
    "colab_type": "code",
    "id": "dtlEPeuJWa0u"
   },
   "outputs": [],
   "source": [
    "import pandas as pd\n",
    "import numpy as np\n",
    "import matplotlib.pyplot as plt\n",
    "% matplotlib inline"
   ]
  },
  {
   "cell_type": "markdown",
   "metadata": {},
   "source": [
    "### anytime"
   ]
  },
  {
   "cell_type": "markdown",
   "metadata": {},
   "source": [
    "### 1. Cifar-10"
   ]
  },
  {
   "cell_type": "markdown",
   "metadata": {},
   "source": [
    "- MSDNet"
   ]
  },
  {
   "cell_type": "code",
   "execution_count": 9,
   "metadata": {
    "colab": {},
    "colab_type": "code",
    "id": "DBq5V4bja_jI"
   },
   "outputs": [],
   "source": [
    "df_acc_msd10 = pd.read_csv('output\\msd_anytime\\cifar10_acc.csv')"
   ]
  },
  {
   "cell_type": "code",
   "execution_count": 10,
   "metadata": {},
   "outputs": [
    {
     "data": {
      "text/html": [
       "<div>\n",
       "<style scoped>\n",
       "    .dataframe tbody tr th:only-of-type {\n",
       "        vertical-align: middle;\n",
       "    }\n",
       "\n",
       "    .dataframe tbody tr th {\n",
       "        vertical-align: top;\n",
       "    }\n",
       "\n",
       "    .dataframe thead th {\n",
       "        text-align: right;\n",
       "    }\n",
       "</style>\n",
       "<table border=\"1\" class=\"dataframe\">\n",
       "  <thead>\n",
       "    <tr style=\"text-align: right;\">\n",
       "      <th></th>\n",
       "      <th>i</th>\n",
       "      <th>acc</th>\n",
       "    </tr>\n",
       "  </thead>\n",
       "  <tbody>\n",
       "    <tr>\n",
       "      <th>300</th>\n",
       "      <td>0</td>\n",
       "      <td>87.32</td>\n",
       "    </tr>\n",
       "    <tr>\n",
       "      <th>301</th>\n",
       "      <td>1</td>\n",
       "      <td>88.73</td>\n",
       "    </tr>\n",
       "    <tr>\n",
       "      <th>302</th>\n",
       "      <td>2</td>\n",
       "      <td>89.58</td>\n",
       "    </tr>\n",
       "    <tr>\n",
       "      <th>303</th>\n",
       "      <td>3</td>\n",
       "      <td>90.49</td>\n",
       "    </tr>\n",
       "    <tr>\n",
       "      <th>304</th>\n",
       "      <td>4</td>\n",
       "      <td>90.66</td>\n",
       "    </tr>\n",
       "    <tr>\n",
       "      <th>305</th>\n",
       "      <td>5</td>\n",
       "      <td>90.78</td>\n",
       "    </tr>\n",
       "    <tr>\n",
       "      <th>306</th>\n",
       "      <td>6</td>\n",
       "      <td>91.07</td>\n",
       "    </tr>\n",
       "    <tr>\n",
       "      <th>307</th>\n",
       "      <td>7</td>\n",
       "      <td>91.12</td>\n",
       "    </tr>\n",
       "    <tr>\n",
       "      <th>308</th>\n",
       "      <td>8</td>\n",
       "      <td>91.16</td>\n",
       "    </tr>\n",
       "    <tr>\n",
       "      <th>309</th>\n",
       "      <td>9</td>\n",
       "      <td>91.09</td>\n",
       "    </tr>\n",
       "  </tbody>\n",
       "</table>\n",
       "</div>"
      ],
      "text/plain": [
       "     i    acc\n",
       "300  0  87.32\n",
       "301  1  88.73\n",
       "302  2  89.58\n",
       "303  3  90.49\n",
       "304  4  90.66\n",
       "305  5  90.78\n",
       "306  6  91.07\n",
       "307  7  91.12\n",
       "308  8  91.16\n",
       "309  9  91.09"
      ]
     },
     "execution_count": 10,
     "metadata": {},
     "output_type": "execute_result"
    }
   ],
   "source": [
    "size_msd10 = len(df_acc_msd10)\n",
    "df_acc_msd10 [size_msd10-10:size_msd10]"
   ]
  },
  {
   "cell_type": "code",
   "execution_count": 17,
   "metadata": {},
   "outputs": [],
   "source": [
    "df_flops_msd10 = pd.read_csv('output\\msd_anytime\\cifar10_flops.csv')"
   ]
  },
  {
   "cell_type": "code",
   "execution_count": 12,
   "metadata": {},
   "outputs": [
    {
     "data": {
      "text/html": [
       "<div>\n",
       "<style scoped>\n",
       "    .dataframe tbody tr th:only-of-type {\n",
       "        vertical-align: middle;\n",
       "    }\n",
       "\n",
       "    .dataframe tbody tr th {\n",
       "        vertical-align: top;\n",
       "    }\n",
       "\n",
       "    .dataframe thead th {\n",
       "        text-align: right;\n",
       "    }\n",
       "</style>\n",
       "<table border=\"1\" class=\"dataframe\">\n",
       "  <thead>\n",
       "    <tr style=\"text-align: right;\">\n",
       "      <th></th>\n",
       "      <th>i</th>\n",
       "      <th>flops</th>\n",
       "    </tr>\n",
       "  </thead>\n",
       "  <tbody>\n",
       "    <tr>\n",
       "      <th>0</th>\n",
       "      <td>1</td>\n",
       "      <td>26608640.0</td>\n",
       "    </tr>\n",
       "    <tr>\n",
       "      <th>1</th>\n",
       "      <td>2</td>\n",
       "      <td>39518474.0</td>\n",
       "    </tr>\n",
       "    <tr>\n",
       "      <th>2</th>\n",
       "      <td>3</td>\n",
       "      <td>54345236.0</td>\n",
       "    </tr>\n",
       "    <tr>\n",
       "      <th>3</th>\n",
       "      <td>4</td>\n",
       "      <td>72643614.0</td>\n",
       "    </tr>\n",
       "    <tr>\n",
       "      <th>4</th>\n",
       "      <td>5</td>\n",
       "      <td>83931432.0</td>\n",
       "    </tr>\n",
       "    <tr>\n",
       "      <th>5</th>\n",
       "      <td>6</td>\n",
       "      <td>96988722.0</td>\n",
       "    </tr>\n",
       "    <tr>\n",
       "      <th>6</th>\n",
       "      <td>7</td>\n",
       "      <td>111815484.0</td>\n",
       "    </tr>\n",
       "    <tr>\n",
       "      <th>7</th>\n",
       "      <td>8</td>\n",
       "      <td>125412678.0</td>\n",
       "    </tr>\n",
       "    <tr>\n",
       "      <th>8</th>\n",
       "      <td>9</td>\n",
       "      <td>135975504.0</td>\n",
       "    </tr>\n",
       "    <tr>\n",
       "      <th>9</th>\n",
       "      <td>10</td>\n",
       "      <td>148012890.0</td>\n",
       "    </tr>\n",
       "  </tbody>\n",
       "</table>\n",
       "</div>"
      ],
      "text/plain": [
       "    i        flops\n",
       "0   1   26608640.0\n",
       "1   2   39518474.0\n",
       "2   3   54345236.0\n",
       "3   4   72643614.0\n",
       "4   5   83931432.0\n",
       "5   6   96988722.0\n",
       "6   7  111815484.0\n",
       "7   8  125412678.0\n",
       "8   9  135975504.0\n",
       "9  10  148012890.0"
      ]
     },
     "execution_count": 12,
     "metadata": {},
     "output_type": "execute_result"
    }
   ],
   "source": [
    "df_flops_msd10[:10]"
   ]
  },
  {
   "cell_type": "markdown",
   "metadata": {},
   "source": [
    "- ResNet"
   ]
  },
  {
   "cell_type": "code",
   "execution_count": 20,
   "metadata": {},
   "outputs": [
    {
     "data": {
      "text/plain": [
       "'D:\\\\Code\\\\Jupyter Notebook\\\\Python\\\\DL'"
      ]
     },
     "execution_count": 20,
     "metadata": {},
     "output_type": "execute_result"
    }
   ],
   "source": [
    "import os\n",
    "os.getcwd()"
   ]
  },
  {
   "cell_type": "code",
   "execution_count": 35,
   "metadata": {},
   "outputs": [],
   "source": [
    "df_res10 = pd.read_csv('output/res_anytime/res10.csv')"
   ]
  },
  {
   "cell_type": "markdown",
   "metadata": {},
   "source": [
    "- DenseNet"
   ]
  },
  {
   "cell_type": "code",
   "execution_count": 36,
   "metadata": {},
   "outputs": [],
   "source": [
    "df_des10 = pd.read_csv('output/dense_anytime/dense10.csv')"
   ]
  },
  {
   "cell_type": "code",
   "execution_count": 38,
   "metadata": {},
   "outputs": [
    {
     "data": {
      "image/png": "[encoded data removed]",
      "text/plain": [
       "<Figure size 432x288 with 1 Axes>"
      ]
     },
     "metadata": {
      "needs_background": "light"
     },
     "output_type": "display_data"
    }
   ],
   "source": [
    "plt.plot(df_flops_msd10['flops'][:10],df_acc_msd10['acc'][size_msd10-10:size_msd10],'k-o',label='MSDNet',drawstyle='steps-post')\n",
    "# plt.plot(df_flops['flops'][:10],df_acc['acc'][:10],'-',label='MSDNet',drawstyle='steps-post')\n",
    "plt.plot(df_res10['flops'], df_res10['accuracy']*100,'b-s',label='ResNet',drawstyle='steps-post')\n",
    "plt.plot(df_des10['flops'], df_des10['acc']*100,'r-h',label='DenseNet',drawstyle='steps-post')\n",
    "# plt.plot(df['x'], df['AStar'],'y-+',label='AStar')\n",
    "plt.title(\"Anytime prediction on CIFAR-10\")\n",
    "plt.xlabel(\"budget (in MUL-ADD)\")\n",
    "plt.ylabel('accuracy (%)')\n",
    "# plt.ylim(80,95)\n",
    "plt.legend()\n",
    "plt.savefig('anytime_cifar10.pdf')\n",
    "plt.show()"
   ]
  },
  {
   "cell_type": "markdown",
   "metadata": {},
   "source": [
    "### 2.Cifar-100"
   ]
  },
  {
   "cell_type": "markdown",
   "metadata": {},
   "source": [
    "- MSDNet"
   ]
  },
  {
   "cell_type": "code",
   "execution_count": 82,
   "metadata": {},
   "outputs": [],
   "source": [
    "# batch_size=32, epoch=46\n",
    "df_acc_msd100 = pd.read_csv('output\\msd_anytime\\cifar100_acc.csv')\n",
    "df_flops_msd100 = pd.read_csv('output\\msd_anytime\\cifar100_flops.csv')"
   ]
  },
  {
   "cell_type": "code",
   "execution_count": 83,
   "metadata": {},
   "outputs": [],
   "source": [
    "size_msd100=len(df_acc_msd100)"
   ]
  },
  {
   "cell_type": "markdown",
   "metadata": {},
   "source": [
    "- ResNet"
   ]
  },
  {
   "cell_type": "code",
   "execution_count": 40,
   "metadata": {},
   "outputs": [],
   "source": [
    "df_res100 = pd.read_csv('output/res_anytime/res100.csv')"
   ]
  },
  {
   "cell_type": "markdown",
   "metadata": {},
   "source": [
    "- DenseNet"
   ]
  },
  {
   "cell_type": "code",
   "execution_count": 41,
   "metadata": {},
   "outputs": [],
   "source": [
    "df_des100 = pd.read_csv('output/dense_anytime/dense100.csv')"
   ]
  },
  {
   "cell_type": "code",
   "execution_count": 84,
   "metadata": {},
   "outputs": [
    {
     "data": {
      "image/png": "[encoded data removed]",
      "text/plain": [
       "<Figure size 432x288 with 1 Axes>"
      ]
     },
     "metadata": {
      "needs_background": "light"
     },
     "output_type": "display_data"
    }
   ],
   "source": [
    "plt.plot(df_flops_msd100['flops'][:10],df_acc_msd100['acc'][size_msd100-10:size_msd100],'k-o',label='MSDNet',drawstyle='steps-post')\n",
    "plt.plot(df_res100['flops'], df_res100['accuracy']*100,'b-s',label='ResNet',drawstyle='steps-post')\n",
    "plt.plot(df_des100['flops'], df_des100['accuracy']*100,'r-h',label='DenseNet',drawstyle='steps-post')\n",
    "# plt.plot(df['x'], df['AStar'],'y-+',label='AStar')\n",
    "plt.title(\"Anytime prediction on CIFAR-100\")\n",
    "plt.xlabel(\"budget (in MUL-ADD)\")\n",
    "plt.ylabel('accuracy (%)')\n",
    "# plt.ylim(80,95)\n",
    "plt.legend()\n",
    "plt.savefig('anytime_cifar100.pdf')\n",
    "plt.show()"
   ]
  },
  {
   "cell_type": "markdown",
   "metadata": {},
   "source": [
    "### anytime MSDNet vs GCN"
   ]
  },
  {
   "cell_type": "markdown",
   "metadata": {},
   "source": [
    "- Cifar10"
   ]
  },
  {
   "cell_type": "code",
   "execution_count": 54,
   "metadata": {},
   "outputs": [],
   "source": [
    "df_acc_gcn1=pd.read_csv('output/gcn_anytime_b2_s1/cifar10_acc.csv')\n",
    "df_flops_gcn1=pd.read_csv('output/gcn_anytime_b2_s1/cifar10_flops.csv')\n",
    "df_acc_gcn2=pd.read_csv('output/gcn_anytime_b4_s2/cifar10_acc.csv')\n",
    "df_flops_gcn2=pd.read_csv('output/gcn_anytime_b4_s2/cifar10_flops.csv')"
   ]
  },
  {
   "cell_type": "code",
   "execution_count": 55,
   "metadata": {},
   "outputs": [],
   "source": [
    "size_gcn1=len(df_acc_gcn1)\n",
    "size_gcn2=len(df_acc_gcn2)"
   ]
  },
  {
   "cell_type": "code",
   "execution_count": 91,
   "metadata": {},
   "outputs": [
    {
     "data": {
      "image/png": "[encoded data removed]",
      "text/plain": [
       "<Figure size 432x288 with 1 Axes>"
      ]
     },
     "metadata": {
      "needs_background": "light"
     },
     "output_type": "display_data"
    }
   ],
   "source": [
    "plt.plot(df_flops_msd10['flops'][:10],df_acc_msd10['acc'][size_msd10-10:size_msd10],'k-o',label='MSDNet',drawstyle='steps-post')\n",
    "plt.plot(df_flops_gcn1['flops'][:10], df_acc_gcn1['acc'][size_gcn1-10:size_gcn1],'b-s',label='GCN all layers base2',drawstyle='steps-post')\n",
    "plt.plot(df_flops_gcn2['flops'][:10], df_acc_gcn2['acc'][size_gcn2-10:size_gcn2],'r-h',label='GCN all layers base4',drawstyle='steps-post')\n",
    "# plt.plot(df['x'], df['AStar'],'y-+',label='AStar')\n",
    "plt.title(\"Anytime prediction on CIFAR-10\")\n",
    "plt.xlabel(\"budget (in MUL-ADD)\")\n",
    "plt.ylabel('accuracy (%)')\n",
    "# plt.ylim(80,95)\n",
    "plt.legend()\n",
    "plt.savefig('msd_gcn_anytime_cifar10.pdf')\n",
    "plt.show()"
   ]
  },
  {
   "cell_type": "markdown",
   "metadata": {},
   "source": [
    "- Cifar 100"
   ]
  },
  {
   "cell_type": "code",
   "execution_count": 75,
   "metadata": {},
   "outputs": [],
   "source": [
    "df_acc_100_gcn1=pd.read_csv('output/gcn_anytime_b2_s1/cifar100_acc.csv')\n",
    "df_flops_100_gcn1=pd.read_csv('output/gcn_anytime_b2_s1/cifar100_flops.csv')\n",
    "df_acc_100_gcn2=pd.read_csv('output/gcn_anytime_b4_s2/cifar100_acc.csv')\n",
    "df_flops_100_gcn2=pd.read_csv('output/gcn_anytime_b4_s2/cifar100_flops.csv')"
   ]
  },
  {
   "cell_type": "code",
   "execution_count": 76,
   "metadata": {},
   "outputs": [],
   "source": [
    "size_100_gcn1=len(df_acc_100_gcn1)\n",
    "size_100_gcn2=len(df_acc_100_gcn2)"
   ]
  },
  {
   "cell_type": "code",
   "execution_count": 92,
   "metadata": {},
   "outputs": [
    {
     "data": {
      "image/png": "[encoded data removed]",
      "text/plain": [
       "<Figure size 432x288 with 1 Axes>"
      ]
     },
     "metadata": {
      "needs_background": "light"
     },
     "output_type": "display_data"
    }
   ],
   "source": [
    "plt.plot(df_flops_msd100['flops'][:10],df_acc_msd100['acc'][size_msd100-10:size_msd100],'k-o',label='MSDNet',drawstyle='steps-post')\n",
    "plt.plot(df_flops_100_gcn1['flops'][:10], df_acc_100_gcn1['acc'][size_100_gcn1-10:size_100_gcn1],'b-s',label='GCN all layers base2 kernel 5',drawstyle='steps-post')\n",
    "plt.plot(df_flops_100_gcn2['flops'][:10], df_acc_100_gcn2['acc'][size_100_gcn2-10:size_100_gcn2],'r-h',label='GCN all layers base4 kernel 5',drawstyle='steps-post')\n",
    "# plt.plot(df['x'], df['AStar'],'y-+',label='AStar')\n",
    "plt.title(\"Anytime prediction on CIFAR-100\")\n",
    "plt.xlabel(\"budget (in MUL-ADD)\")\n",
    "plt.ylabel('accuracy (%)')\n",
    "# plt.ylim(80,95)\n",
    "plt.legend()\n",
    "plt.savefig('msd_gcn_anytime_cifar100.pdf')\n",
    "plt.show()"
   ]
  },
  {
   "cell_type": "markdown",
   "metadata": {},
   "source": [
    "- pre-trained"
   ]
  },
  {
   "cell_type": "code",
   "execution_count": 87,
   "metadata": {},
   "outputs": [],
   "source": [
    "df_acc_gcn1_pre=pd.read_csv('output/gcn_anytime_b2_s1_pre/cifar10_acc.csv')\n",
    "df_flops_gcn1_pre=pd.read_csv('output/gcn_anytime_b2_s1_pre/cifar10_flops.csv')"
   ]
  },
  {
   "cell_type": "code",
   "execution_count": 88,
   "metadata": {},
   "outputs": [],
   "source": [
    "size_gcn1_pre=len(df_acc_gcn1_pre)"
   ]
  },
  {
   "cell_type": "code",
   "execution_count": 90,
   "metadata": {},
   "outputs": [
    {
     "data": {
      "image/png": "[encoded data removed]",
      "text/plain": [
       "<Figure size 432x288 with 1 Axes>"
      ]
     },
     "metadata": {
      "needs_background": "light"
     },
     "output_type": "display_data"
    }
   ],
   "source": [
    "plt.plot(df_flops_msd10['flops'][:10],df_acc_msd10['acc'][size_msd10-10:size_msd10],'k-o',label='MSDNet',drawstyle='steps-post')\n",
    "plt.plot(df_flops_gcn1_pre['flops'][:10], df_acc_gcn1_pre['acc'][size_gcn1_pre-10:size_gcn1_pre],'b-s',label='GCN all layers base2 kernel5',drawstyle='steps-post')\n",
    "# plt.plot(df['x'], df['AStar'],'y-+',label='AStar')\n",
    "plt.title(\"Anytime prediction on CIFAR-10\")\n",
    "plt.xlabel(\"budget (in MUL-ADD)\")\n",
    "plt.ylabel('accuracy (%)')\n",
    "# plt.ylim(80,95)\n",
    "plt.legend()\n",
    "plt.savefig('msd_gcn_anytime_cifar10_pre.pdf')\n",
    "plt.show()"
   ]
  },
  {
   "cell_type": "markdown",
   "metadata": {},
   "source": [
    "### budgeted computation"
   ]
  },
  {
   "cell_type": "markdown",
   "metadata": {},
   "source": [
    "- Cifar10"
   ]
  },
  {
   "cell_type": "code",
   "execution_count": 72,
   "metadata": {},
   "outputs": [],
   "source": [
    "df_budg10=pd.read_csv('output/msd_budget/dynamic10.csv')"
   ]
  },
  {
   "cell_type": "code",
   "execution_count": 73,
   "metadata": {},
   "outputs": [
    {
     "data": {
      "image/png": "[encoded data removed]",
      "text/plain": [
       "<Figure size 432x288 with 1 Axes>"
      ]
     },
     "metadata": {
      "needs_background": "light"
     },
     "output_type": "display_data"
    }
   ],
   "source": [
    "plt.plot(df_budg10['flops'],df_budg10['acc'],label='MSDNet with early-exists')\n",
    "plt.title(\"Batch computational learning on CIFAR-10\")\n",
    "plt.xlabel(\"budget (in MUL-ADD)\")\n",
    "plt.ylabel('accuracy (%)')\n",
    "# plt.ylim(80,95)\n",
    "plt.legend()\n",
    "plt.savefig('msd_budget_cifar10.pdf')\n",
    "plt.show()"
   ]
  },
  {
   "cell_type": "markdown",
   "metadata": {},
   "source": [
    "- Cifar 100"
   ]
  },
  {
   "cell_type": "code",
   "execution_count": 68,
   "metadata": {},
   "outputs": [],
   "source": [
    "df_budg100=pd.read_csv('output/msd_budget/dynamic100.csv')"
   ]
  },
  {
   "cell_type": "code",
   "execution_count": 74,
   "metadata": {},
   "outputs": [
    {
     "data": {
      "image/png": "[encoded data removed]",
      "text/plain": [
       "<Figure size 432x288 with 1 Axes>"
      ]
     },
     "metadata": {
      "needs_background": "light"
     },
     "output_type": "display_data"
    }
   ],
   "source": [
    "plt.plot(df_budg100['flops'],df_budg100['acc'],label='MSDNet with dynamic evaluation')\n",
    "plt.title(\"Budgeted batch classification on CIFAR-100\")\n",
    "plt.xlabel(\"budget (in MUL-ADD)\")\n",
    "plt.ylabel('accuracy (%)')\n",
    "# plt.ylim(80,95)\n",
    "plt.legend()\n",
    "plt.savefig('msd_budget_cifar100.pdf')\n",
    "plt.show()"
   ]
  },
  {
   "cell_type": "code",
   "execution_count": 54,
   "metadata": {},
   "outputs": [],
   "source": [
    "import csv\n",
    "def write_csv(file_path,text):\n",
    "    with open(file_path, mode='a',encoding='utf8',newline ='') as f:\n",
    "        f = csv.writer(f, delimiter=',', quotechar='\"', quoting=csv.QUOTE_MINIMAL)\n",
    "#         f = csv.writer(f)\n",
    "        f.writerow(text)\n",
    "flops_file=\"resnet_flops.csv\"\n",
    "acc_file=\"resnet_acc.csv\""
   ]
  },
  {
   "cell_type": "code",
   "execution_count": 55,
   "metadata": {},
   "outputs": [],
   "source": [
    "write_csv(flops_file,[1,str(14229000)])"
   ]
  },
  {
   "cell_type": "code",
   "execution_count": null,
   "metadata": {},
   "outputs": [],
   "source": []
  }
 ],
 "metadata": {
  "colab": {
   "name": "MSDNet_plot.ipynb",
   "provenance": [],
   "version": "0.3.2"
  },
  "kernelspec": {
   "display_name": "Python 3",
   "language": "python",
   "name": "python3"
  },
  "language_info": {
   "codemirror_mode": {
    "name": "ipython",
    "version": 3
   },
   "file_extension": ".py",
   "mimetype": "text/x-python",
   "name": "python",
   "nbconvert_exporter": "python",
   "pygments_lexer": "ipython3",
   "version": "3.7.3"
  }
 },
 "nbformat": 4,
 "nbformat_minor": 2
}
